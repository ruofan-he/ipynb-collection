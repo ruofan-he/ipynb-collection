{
  "nbformat": 4,
  "nbformat_minor": 0,
  "metadata": {
    "colab": {
      "name": "1919810.ipynb",
      "provenance": [],
      "collapsed_sections": []
    },
    "kernelspec": {
      "name": "python3",
      "display_name": "Python 3"
    }
  },
  "cells": [
    {
      "cell_type": "markdown",
      "metadata": {
        "id": "M17pDoKmqnRu",
        "colab_type": "text"
      },
      "source": [
        "# 自動微分について"
      ]
    },
    {
      "cell_type": "code",
      "metadata": {
        "id": "GId8Ega9icVh",
        "colab_type": "code",
        "colab": {}
      },
      "source": [
        "import numpy as np\n",
        "import torch\n",
        "device = torch.device('cuda:0')\n",
        "device = torch.device('cpu')\n",
        "a = torch.tensor([2,4,3], dtype= torch.int32, device = device)\n",
        "a = torch.tensor([3,4], dtype= torch.float32 , requires_grad=True) # 勾配情報をつける\n",
        "print(a)\n",
        "\n",
        "y = torch.norm(a)**2\n",
        "y.backward() # 自動微分やが\n",
        "print(y)\n",
        "print(a.grad) # 勾配やが\n",
        "\n",
        "print('asasdfasdfasdfasdfasdfasdfasdfasdfasdfasdfasdfasdfasdfasdfasdf')\n",
        "\n",
        "alpha = 0.1\n",
        "for i in range(100):\n",
        "  a = a - alpha * a.grad\n",
        "  a.retain_grad()   # これがないと微分してくれない\n",
        "  y = torch.norm(a)**2\n",
        "  y.backward()\n",
        "  print(y)\n",
        "\n",
        "\n"
      ],
      "execution_count": null,
      "outputs": []
    },
    {
      "cell_type": "markdown",
      "metadata": {
        "id": "WqbKp8lsq1u-",
        "colab_type": "text"
      },
      "source": [
        "# データセットづくり\n",
        "torchvisionは特にコンピュータービジョン系のライブラリーである"
      ]
    },
    {
      "cell_type": "code",
      "metadata": {
        "id": "bcgE0PYCcyND",
        "colab_type": "code",
        "colab": {
          "base_uri": "https://localhost:8080/",
          "height": 51
        },
        "outputId": "150875db-ed88-4646-cb00-3338d8901ef4"
      },
      "source": [
        "import numpy as np\n",
        "s = None\n",
        "\n",
        "labels = []\n",
        "datas = None\n",
        "\n",
        "for line in open('/content/sample_data/mnist_test.csv', 'r'):\n",
        "    a = list(map(int,line.split(',')))\n",
        "    label = a[0]\n",
        "    labels.append(label)\n",
        "    data = np.array(a[1:]).reshape((1,28,28))\n",
        "    if datas is None:\n",
        "      datas = data\n",
        "    else:\n",
        "      datas = np.vstack((datas,data))\n",
        "    if datas.shape[0] > 100:\n",
        "      break\n",
        "\n",
        "print(datas.shape)\n",
        "print(len(labels))"
      ],
      "execution_count": null,
      "outputs": [
        {
          "output_type": "stream",
          "text": [
            "(101, 28, 28)\n",
            "101\n"
          ],
          "name": "stdout"
        }
      ]
    },
    {
      "cell_type": "markdown",
      "metadata": {
        "id": "xCjZHl2mzU5M",
        "colab_type": "text"
      },
      "source": [
        "pytorchではtorch.utils.data.Datasetでデータを扱う"
      ]
    },
    {
      "cell_type": "code",
      "metadata": {
        "id": "PGfeZchpx7cG",
        "colab_type": "code",
        "colab": {}
      },
      "source": [
        "import torch\n",
        "\n",
        "class Mydatasets(torch.utils.data.Dataset):\n",
        "    def __init__(self, transform = None):\n",
        "        self.transform = transform\n",
        "\n",
        "        import numpy as np\n",
        "        labels = []\n",
        "        datas = None\n",
        "\n",
        "        for line in open('/content/sample_data/mnist_test.csv', 'r'):\n",
        "            a = list(map(int,line.split(',')))\n",
        "            label = a[0]\n",
        "            labels.append(label)\n",
        "            data = np.array(a[1:],dtype = np.uint8).reshape((1,28,28))\n",
        "            if datas is None:\n",
        "              datas = data\n",
        "            else:\n",
        "              datas = np.vstack((datas,data))\n",
        "            if datas.shape[0] > 2000:\n",
        "              break\n",
        "\n",
        "        self.data = datas\n",
        "        self.label =  labels\n",
        "\n",
        "        self.datanum = len(labels)\n",
        "\n",
        "    def __len__(self):\n",
        "        return self.datanum\n",
        "\n",
        "    def __getitem__(self, idx):\n",
        "        out_data = self.data[idx]\n",
        "        out_label = self.label[idx]\n",
        "\n",
        "        if self.transform:\n",
        "            out_data = self.transform(out_data)\n",
        "\n",
        "        return out_data, out_label"
      ],
      "execution_count": null,
      "outputs": []
    },
    {
      "cell_type": "code",
      "metadata": {
        "id": "suA26P3Ny3it",
        "colab_type": "code",
        "colab": {}
      },
      "source": [
        "import torchvision\n",
        "\n",
        "trans = torchvision.transforms.Compose([\n",
        "                                        torchvision.transforms.ToTensor(),\n",
        "                                        torchvision.transforms.Normalize((0.5),(1.0))\n",
        "                                        ])\n",
        "\n",
        "dataset = Mydatasets(trans)"
      ],
      "execution_count": null,
      "outputs": []
    },
    {
      "cell_type": "markdown",
      "metadata": {
        "id": "Sx0YrR0Hz82j",
        "colab_type": "text"
      },
      "source": [
        "# dataloader"
      ]
    },
    {
      "cell_type": "code",
      "metadata": {
        "id": "5oeYI5r3ziJL",
        "colab_type": "code",
        "colab": {}
      },
      "source": [
        "trainloader = torch.utils.data.DataLoader(dataset, batch_size = 100, shuffle = True, num_workers = 2)"
      ],
      "execution_count": null,
      "outputs": []
    },
    {
      "cell_type": "markdown",
      "metadata": {
        "id": "GhufATLB3mwx",
        "colab_type": "text"
      },
      "source": [
        "# 学習"
      ]
    },
    {
      "cell_type": "code",
      "metadata": {
        "id": "H8CFmAilfUo5",
        "colab_type": "code",
        "colab": {}
      },
      "source": [
        "import torch.nn as nn\n",
        "import torch.nn.functional as F\n",
        "\n",
        "class My_net(nn.Module):\n",
        "    def __init__(self):\n",
        "        super().__init__()\n",
        "        self.conv1 = nn.Conv2d(1, 32, 3) # 28x28x32 -> 26x26x32\n",
        "        self.conv2 = nn.Conv2d(32, 64, 3) # 26x26x64 -> 24x24x64 \n",
        "        self.pool = nn.MaxPool2d(2, 2) # 24x24x64 -> 12x12x64\n",
        "        self.dropout1 = nn.Dropout2d()\n",
        "        self.fc1 = nn.Linear(12 * 12 * 64, 128)\n",
        "        self.dropout2 = nn.Dropout2d()\n",
        "        self.fc2 = nn.Linear(128, 10)\n",
        "        \n",
        "\n",
        "    def forward(self, x):\n",
        "        x = F.relu(self.conv1(x))\n",
        "        x = self.pool(F.relu(self.conv2(x)))\n",
        "        x = self.dropout1(x)\n",
        "        x = x.view(-1, 12 * 12 * 64)\n",
        "        x = F.relu(self.fc1(x))\n",
        "        x = self.dropout2(x)\n",
        "        x = self.fc2(x)\n",
        "        return x"
      ],
      "execution_count": null,
      "outputs": []
    },
    {
      "cell_type": "code",
      "metadata": {
        "id": "8GmGg5nmgzx-",
        "colab_type": "code",
        "colab": {}
      },
      "source": [
        "net = My_net()"
      ],
      "execution_count": null,
      "outputs": []
    },
    {
      "cell_type": "code",
      "metadata": {
        "id": "4q9gZtlxffNl",
        "colab_type": "code",
        "colab": {}
      },
      "source": [
        "import torch.optim as optim\n",
        "\n",
        "criterion = nn.CrossEntropyLoss()\n",
        "optimizer = optim.SGD(net.parameters(), lr=0.001, momentum=0.9)"
      ],
      "execution_count": null,
      "outputs": []
    },
    {
      "cell_type": "code",
      "metadata": {
        "id": "A5ixeKtLg8Im",
        "colab_type": "code",
        "colab": {}
      },
      "source": [
        "epochs = 10\n",
        "for epoch in range(epochs):\n",
        "    running_loss = 0.0\n",
        "    for i, (inputs, labels) in enumerate(trainloader, 0):\n",
        "        # zero the parameter gradients\n",
        "        optimizer.zero_grad()\n",
        "\n",
        "        # forward + backward + optimize\n",
        "        outputs = net(inputs)\n",
        "        loss = criterion(outputs, labels)\n",
        "        loss.backward()\n",
        "        optimizer.step()\n",
        "\n",
        "        # print statistics\n",
        "        running_loss += loss.item()\n",
        "        if i % 10 == 9:\n",
        "            print('[{:d}, {:5d}] loss: {:.3f}'\n",
        "                    .format(epoch + 1, i + 1, running_loss / 100))\n",
        "            running_loss = 0.0"
      ],
      "execution_count": null,
      "outputs": []
    },
    {
      "cell_type": "code",
      "metadata": {
        "id": "KXY_sRiP4SFp",
        "colab_type": "code",
        "colab": {
          "base_uri": "https://localhost:8080/",
          "height": 34
        },
        "outputId": "eb1d30b6-9a83-4fcf-dec8-3dbd602de11d"
      },
      "source": [
        "for i,(data,label) in enumerate(trainloader):\n",
        "  break\n",
        "\n",
        "print(data.shape)"
      ],
      "execution_count": null,
      "outputs": [
        {
          "output_type": "stream",
          "text": [
            "torch.Size([100, 1, 28, 28])\n"
          ],
          "name": "stdout"
        }
      ]
    },
    {
      "cell_type": "code",
      "metadata": {
        "id": "QOehszqI53_H",
        "colab_type": "code",
        "colab": {
          "base_uri": "https://localhost:8080/",
          "height": 34
        },
        "outputId": "1bc42a72-0e5a-4846-a017-4a0c22c180f6"
      },
      "source": [
        "correct = 0\n",
        "total = 0\n",
        "\n",
        "with torch.no_grad():\n",
        "    for (images, labels) in trainloader:\n",
        "        outputs = net(images)\n",
        "        _, predicted = torch.max(outputs.data, 1)\n",
        "        total += labels.size(0)\n",
        "        correct += (predicted == labels).sum().item()\n",
        "print('Accuracy: {:.2f} %%'.format(100 * float(correct/total)))"
      ],
      "execution_count": null,
      "outputs": [
        {
          "output_type": "stream",
          "text": [
            "Accuracy: 83.41 %%\n"
          ],
          "name": "stdout"
        }
      ]
    },
    {
      "cell_type": "code",
      "metadata": {
        "id": "D6uSNzW_6uHa",
        "colab_type": "code",
        "colab": {}
      },
      "source": [
        "data, label = dataset[5]"
      ],
      "execution_count": null,
      "outputs": []
    },
    {
      "cell_type": "code",
      "metadata": {
        "id": "-lboDY5H6-Xl",
        "colab_type": "code",
        "colab": {}
      },
      "source": [
        "data = data.reshape((1,1,28,28))"
      ],
      "execution_count": null,
      "outputs": []
    },
    {
      "cell_type": "code",
      "metadata": {
        "id": "pvRHuHgQ8QG3",
        "colab_type": "code",
        "colab": {
          "base_uri": "https://localhost:8080/",
          "height": 51
        },
        "outputId": "f72b0672-1a4b-4751-ade7-c73bdd276d67"
      },
      "source": [
        "net(data)"
      ],
      "execution_count": null,
      "outputs": [
        {
          "output_type": "execute_result",
          "data": {
            "text/plain": [
              "tensor([[-5.3596,  7.5296,  1.5934, -1.3041,  1.9663, -2.0322, -2.3537,  4.6181,\n",
              "          1.1049, -0.3361]], grad_fn=<AddmmBackward>)"
            ]
          },
          "metadata": {
            "tags": []
          },
          "execution_count": 214
        }
      ]
    },
    {
      "cell_type": "code",
      "metadata": {
        "id": "gVrzwuGT8TzX",
        "colab_type": "code",
        "colab": {}
      },
      "source": [
        ""
      ],
      "execution_count": null,
      "outputs": []
    }
  ]
}