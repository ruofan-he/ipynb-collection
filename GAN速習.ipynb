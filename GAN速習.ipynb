{
  "nbformat": 4,
  "nbformat_minor": 0,
  "metadata": {
    "colab": {
      "name": "GAN速習.ipynb",
      "provenance": [],
      "collapsed_sections": []
    },
    "kernelspec": {
      "name": "python3",
      "display_name": "Python 3"
    }
  },
  "cells": [
    {
      "cell_type": "code",
      "metadata": {
        "id": "IAnNnMYcPurG",
        "colab_type": "code",
        "colab": {
          "base_uri": "https://localhost:8080/",
          "height": 52
        },
        "outputId": "f242b328-ed1a-44af-d8ca-f4c7308df56d"
      },
      "source": [
        "import numpy as np\n",
        "s = None\n",
        "\n",
        "labels = []\n",
        "datas = None\n",
        "\n",
        "for line in open('/content/sample_data/mnist_test.csv', 'r'):\n",
        "    a = list(map(int,line.split(',')))\n",
        "    label = a[0]\n",
        "    labels.append(label)\n",
        "    data = np.array(a[1:]).reshape((1,28,28))\n",
        "    if datas is None:\n",
        "      datas = data\n",
        "    else:\n",
        "      datas = np.vstack((datas,data))\n",
        "    if datas.shape[0] > 100:\n",
        "      break\n",
        "\n",
        "print(datas.shape)\n",
        "print(len(labels))"
      ],
      "execution_count": 1,
      "outputs": [
        {
          "output_type": "stream",
          "text": [
            "(101, 28, 28)\n",
            "101\n"
          ],
          "name": "stdout"
        }
      ]
    },
    {
      "cell_type": "code",
      "metadata": {
        "id": "miS_qOpwP0jx",
        "colab_type": "code",
        "colab": {}
      },
      "source": [
        "import torch\n",
        "\n",
        "class Mydatasets(torch.utils.data.Dataset):\n",
        "    def __init__(self, transform = None):\n",
        "        self.transform = transform\n",
        "\n",
        "        import numpy as np\n",
        "        labels = []\n",
        "        datas = None\n",
        "\n",
        "        for line in open('/content/sample_data/mnist_test.csv', 'r'):\n",
        "            a = list(map(int,line.split(',')))\n",
        "            label = a[0]\n",
        "            labels.append(label)\n",
        "            data = np.array(a[1:],dtype = np.uint8).reshape((1,28,28))\n",
        "            if datas is None:\n",
        "              datas = data\n",
        "            else:\n",
        "              datas = np.vstack((datas,data))\n",
        "            if datas.shape[0] > 10000:\n",
        "              break\n",
        "\n",
        "        self.data = datas\n",
        "        self.label =  labels\n",
        "\n",
        "        self.datanum = len(labels)\n",
        "\n",
        "    def __len__(self):\n",
        "        return self.datanum\n",
        "\n",
        "    def __getitem__(self, idx):\n",
        "        out_data = self.data[idx]\n",
        "        out_label = self.label[idx]\n",
        "\n",
        "        if self.transform:\n",
        "            out_data = self.transform(out_data)\n",
        "\n",
        "        return out_data, out_label"
      ],
      "execution_count": 2,
      "outputs": []
    },
    {
      "cell_type": "code",
      "metadata": {
        "id": "hDRkaWf1P35g",
        "colab_type": "code",
        "colab": {}
      },
      "source": [
        "import torchvision\n",
        "\n",
        "trans = torchvision.transforms.Compose([\n",
        "                                        torchvision.transforms.ToTensor()\n",
        "                                        ])\n",
        "\n",
        "dataset = Mydatasets(trans)\n",
        "\n",
        "trainloader = torch.utils.data.DataLoader(dataset, batch_size = 100, shuffle = True, num_workers = 2)"
      ],
      "execution_count": 3,
      "outputs": []
    },
    {
      "cell_type": "code",
      "metadata": {
        "id": "fWNxsdaISBu2",
        "colab_type": "code",
        "colab": {
          "base_uri": "https://localhost:8080/",
          "height": 282
        },
        "outputId": "b9d8b446-bb68-4e69-8f71-bfbe6f5e4d41"
      },
      "source": [
        "from matplotlib import pyplot as plt\n",
        "\n",
        "img = dataset[0][0].unsqueeze(dim = 0)\n",
        "plt.imshow(img.squeeze().detach().numpy())"
      ],
      "execution_count": 5,
      "outputs": [
        {
          "output_type": "execute_result",
          "data": {
            "text/plain": [
              "<matplotlib.image.AxesImage at 0x7fe802896e48>"
            ]
          },
          "metadata": {
            "tags": []
          },
          "execution_count": 5
        },
        {
          "output_type": "display_data",
          "data": {
            "image/png": "[encoded data removed]",
            "text/plain": [
              "<Figure size 432x288 with 1 Axes>"
            ]
          },
          "metadata": {
            "tags": [],
            "needs_background": "light"
          }
        }
      ]
    },
    {
      "cell_type": "code",
      "metadata": {
        "id": "bIFOkDGohGII",
        "colab_type": "code",
        "colab": {
          "base_uri": "https://localhost:8080/",
          "height": 34
        },
        "outputId": "44654fa2-fd43-4311-d16d-9512046067b6"
      },
      "source": [
        "img.shape"
      ],
      "execution_count": 6,
      "outputs": [
        {
          "output_type": "execute_result",
          "data": {
            "text/plain": [
              "torch.Size([1, 1, 28, 28])"
            ]
          },
          "metadata": {
            "tags": []
          },
          "execution_count": 6
        }
      ]
    },
    {
      "cell_type": "code",
      "metadata": {
        "id": "DMegXH-Ig1bt",
        "colab_type": "code",
        "colab": {}
      },
      "source": [
        "import torch.nn as nn\n",
        "import torch.nn.functional as F\n",
        "import torch.optim as optim\n",
        "\n",
        "class GAN_discriminator(nn.Module):\n",
        "  def __init__(self):\n",
        "    super().__init__()\n",
        "    self.conv1 = nn.Conv2d(1,32, 3)\n",
        "    self.conv2 = nn.Conv2d(32, 64, 3)\n",
        "    self.fc1 = nn.Linear(64 * 24 * 24, 100)\n",
        "    self.fc2 = nn.Linear(100, 1)\n",
        "\n",
        "  def forward(self, x):\n",
        "    x = self.conv1(x)\n",
        "    x = F.relu(x)\n",
        "    x = self.conv2(x)\n",
        "    x = F.relu(x)\n",
        "    x = x.view(-1, 64 * 24 * 24)\n",
        "    x = self.fc1(x)\n",
        "    x = F.relu(x)\n",
        "    x = self.fc2(x)\n",
        "    x = torch.sigmoid(x)\n",
        "    x = torch.clamp(x,min = 0.02, max = 0.98)\n",
        "    return x\n",
        "\n",
        "class GAN_generator(nn.Module):\n",
        "  def __init__(self, output_shape=(1, 28, 28)):\n",
        "    super().__init__()\n",
        "    \n",
        "    self.fc1 = nn.Linear(10, 30)\n",
        "    self.fc2 = nn.Linear(30, 90)\n",
        "    self.fc3 = nn.Linear(90, 270)\n",
        "    self.fc4 = nn.Linear(270, 784)\n",
        "    self.conv1 = nn.Conv2d(1,1,3,1,1)\n",
        "    self.output_shape = output_shape\n",
        "\n",
        "  def forward(self, num):\n",
        "    z = torch.randn(num, 10)\n",
        "    x = self.fc1(z)\n",
        "    x = F.leaky_relu(x)\n",
        "    x = self.fc2(x)\n",
        "    x = F.leaky_relu(x)\n",
        "    x = self.fc3(x)\n",
        "    x = F.leaky_relu(x)\n",
        "    x = self.fc4(x)\n",
        "    x = F.leaky_relu(x)\n",
        "    x = x.view(-1, *(self.output_shape))\n",
        "    x = self.conv1(x)\n",
        "    x = torch.sigmoid(x)\n",
        "    return x\n",
        "\n",
        "\n",
        "disc = GAN_discriminator()\n",
        "disc_optimizer = optim.Adam(disc.parameters(), lr=0.0005, weight_decay=0.1)\n",
        "\n",
        "gene = GAN_generator()\n",
        "gene_optimizer = optim.Adam(gene.parameters(), lr=0.0005, weight_decay=0.1)"
      ],
      "execution_count": 259,
      "outputs": []
    },
    {
      "cell_type": "code",
      "metadata": {
        "id": "6xI0oABBZ0iI",
        "colab_type": "code",
        "colab": {}
      },
      "source": [
        "loss_func = torch.nn.BCELoss()"
      ],
      "execution_count": 260,
      "outputs": []
    },
    {
      "cell_type": "code",
      "metadata": {
        "id": "mo7FEujSp2lN",
        "colab_type": "code",
        "colab": {}
      },
      "source": [
        "from tqdm.notebook import tqdm\n",
        "import numpy as np\n",
        "\n",
        "\n",
        "disc_loss = 1\n",
        "gene_loss = 1\n",
        "\n",
        "with tqdm(range(100)) as pbar:\n",
        "  for i in pbar:\n",
        "    disc_epoch_loss = []\n",
        "    gene_epoch_loss = []\n",
        "    for x, label in trainloader:\n",
        "      batch_size = x.shape[0]\n",
        "      falses = torch.zeros(batch_size, 1)\n",
        "      trues = torch.ones(batch_size, 1)\n",
        "\n",
        "      temp = np.random.choice([0.0,1.0], batch_size,  p=[0.1, 0.9])\n",
        "      f_trues = torch.tensor(temp, dtype=torch.float).unsqueeze(dim = 1)\n",
        "\n",
        "      temp = np.random.choice([0.0,1.0], batch_size,  p=[0.9, 0.1])\n",
        "      f_falses = torch.tensor(temp, dtype=torch.float).unsqueeze(dim = 1) # contain deception\n",
        "      \n",
        "      gene.requires_grad_(False)\n",
        "      disc.requires_grad_(True)\n",
        "\n",
        "      fakes = gene(batch_size)\n",
        "\n",
        "      gene_optimizer.zero_grad()\n",
        "      disc_optimizer.zero_grad()\n",
        "      \n",
        "      \n",
        "      loss = (\n",
        "          loss_func(disc(x), f_trues)  + loss_func(disc(fakes),  f_falses)\n",
        "          ) / 2\n",
        "      temp = loss\n",
        "      temp.backward()\n",
        "      disc_optimizer.step()\n",
        "      disc_loss = float(loss)\n",
        "\n",
        "\n",
        "      gene.requires_grad_(True)\n",
        "      disc.requires_grad_(False)\n",
        "\n",
        "      fakes = gene(batch_size)\n",
        "\n",
        "      gene_optimizer.zero_grad()\n",
        "      disc_optimizer.zero_grad()\n",
        "\n",
        "      loss = loss_func(disc(fakes), trues)\n",
        "      temp = loss\n",
        "      temp.backward()\n",
        "      gene_optimizer.step()\n",
        "      gene_loss = float(loss)\n",
        "\n",
        "\n",
        "\n",
        "\n",
        "      pbar.postfix = 'disc_loss = {}, gene_loss = {}'.format(disc_loss, gene_loss)\n",
        "      pbar.refresh()\n",
        "      disc_epoch_loss.append(disc_loss)\n",
        "      gene_epoch_loss.append(gene_loss)"
      ],
      "execution_count": null,
      "outputs": []
    },
    {
      "cell_type": "code",
      "metadata": {
        "id": "8-B1cOtJEXVp",
        "colab_type": "code",
        "colab": {
          "base_uri": "https://localhost:8080/",
          "height": 52
        },
        "outputId": "00b1486a-d92d-4518-b64c-9c284c9b3fc4"
      },
      "source": [
        "print(disc(x).mean())\n",
        "print(disc(fakes).mean())"
      ],
      "execution_count": 272,
      "outputs": [
        {
          "output_type": "stream",
          "text": [
            "tensor(0.8514)\n",
            "tensor(0.0773, grad_fn=<MeanBackward0>)\n"
          ],
          "name": "stdout"
        }
      ]
    },
    {
      "cell_type": "code",
      "metadata": {
        "id": "0cWq8KGS6Xnw",
        "colab_type": "code",
        "colab": {}
      },
      "source": [
        "img = dataset[200][0].unsqueeze(dim = 0)"
      ],
      "execution_count": null,
      "outputs": []
    },
    {
      "cell_type": "code",
      "metadata": {
        "id": "-HIPpn3D5evq",
        "colab_type": "code",
        "colab": {
          "base_uri": "https://localhost:8080/",
          "height": 265
        },
        "outputId": "859472f4-9f24-496a-b25c-7845129d8b91"
      },
      "source": [
        "plt.imshow(img.squeeze().detach().numpy());"
      ],
      "execution_count": null,
      "outputs": [
        {
          "output_type": "display_data",
          "data": {
            "image/png": "[encoded data removed]",
            "text/plain": [
              "<Figure size 432x288 with 1 Axes>"
            ]
          },
          "metadata": {
            "tags": [],
            "needs_background": "light"
          }
        }
      ]
    },
    {
      "cell_type": "code",
      "metadata": {
        "id": "xTdCA4NS9kJg",
        "colab_type": "code",
        "colab": {
          "base_uri": "https://localhost:8080/",
          "height": 282
        },
        "outputId": "94cc6dcf-59d7-4c78-c9b5-6ebcb5354ca7"
      },
      "source": [
        "plt.imshow(gene(1).squeeze().detach().numpy())"
      ],
      "execution_count": 277,
      "outputs": [
        {
          "output_type": "execute_result",
          "data": {
            "text/plain": [
              "<matplotlib.image.AxesImage at 0x7fe7f4fc8780>"
            ]
          },
          "metadata": {
            "tags": []
          },
          "execution_count": 277
        },
        {
          "output_type": "display_data",
          "data": {
            "image/png": "[encoded data removed]",
            "text/plain": [
              "<Figure size 432x288 with 1 Axes>"
            ]
          },
          "metadata": {
            "tags": [],
            "needs_background": "light"
          }
        }
      ]
    },
    {
      "cell_type": "code",
      "metadata": {
        "id": "x492FBNbDuD3",
        "colab_type": "code",
        "colab": {}
      },
      "source": [
        ""
      ],
      "execution_count": null,
      "outputs": []
    }
  ]
}